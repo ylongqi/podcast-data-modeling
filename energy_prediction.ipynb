{
 "cells": [
  {
   "cell_type": "code",
   "execution_count": 1,
   "metadata": {},
   "outputs": [],
   "source": [
    "import json\n",
    "\n",
    "# Load training labels\n",
    "train_pos_samples = []\n",
    "train_neg_samples = []\n",
    "with open('attributes_labels/energy_train.txt', 'r') as fin:\n",
    "    for line in fin:\n",
    "        snippet = json.loads(line)\n",
    "        if snippet['label'] == 1:\n",
    "            train_pos_samples.append([snippet['id'], snippet['offset']])\n",
    "        else:\n",
    "            train_neg_samples.append([snippet['id'], snippet['offset']])\n",
    "\n",
    "# Load testing labels\n",
    "test_pos_samples = []\n",
    "test_neg_samples = []\n",
    "with open('attributes_labels/energy_test.txt', 'r') as fin:\n",
    "    for line in fin:\n",
    "        snippet = json.loads(line)\n",
    "        if snippet['label'] == 1:\n",
    "            test_pos_samples.append([snippet['id'], snippet['offset']])\n",
    "        else:\n",
    "            test_neg_samples.append([snippet['id'], snippet['offset']])"
   ]
  },
  {
   "cell_type": "code",
   "execution_count": 2,
   "metadata": {},
   "outputs": [
    {
     "name": "stdout",
     "output_type": "stream",
     "text": [
      "INFO:tensorflow:Restoring parameters from pretrained_model/alpr\n"
     ]
    }
   ],
   "source": [
    "from alpr_extractor import ALPRExtractor\n",
    "\n",
    "# Load ALPR extractor\n",
    "extractor = ALPRExtractor()\n",
    "extractor.load_model(path='pretrained_model/alpr')"
   ]
  },
  {
   "cell_type": "code",
   "execution_count": 3,
   "metadata": {},
   "outputs": [
    {
     "name": "stderr",
     "output_type": "stream",
     "text": [
      "100%|██████████| 270/270 [00:00<00:00, 2525.82it/s]\n",
      "100%|██████████| 270/270 [00:00<00:00, 3163.32it/s]\n",
      "100%|██████████| 270/270 [00:00<00:00, 3252.11it/s]\n",
      "100%|██████████| 270/270 [00:00<00:00, 3191.90it/s]\n",
      "100%|██████████| 17/17 [00:00<00:00, 17.33it/s]\n",
      "100%|██████████| 17/17 [00:00<00:00, 68.77it/s]\n",
      "100%|██████████| 17/17 [00:00<00:00, 69.10it/s]\n",
      "100%|██████████| 17/17 [00:00<00:00, 69.17it/s]\n"
     ]
    }
   ],
   "source": [
    "import numpy as np\n",
    "from tqdm import tqdm\n",
    "\n",
    "def get_spectrograms(samples):\n",
    "    samples_spectrograms = []\n",
    "    for s in tqdm(samples):\n",
    "        samples_spectrograms.append(np.load('data/attributes_prediction_spectrograms/e_%s_%d.npy' % (s[0], s[1]))\\\n",
    "                              .reshape((1, 128, 512, 1)))\n",
    "    samples_spectrograms = np.concatenate(samples_spectrograms, axis=0)\n",
    "    return (samples_spectrograms + 2.0) / 2\n",
    "\n",
    "def extract_features(samples_spectrograms, extractor=extractor, batch_size=16):\n",
    "    num_batches = int(1 + (len(samples_spectrograms) - 1) / batch_size)\n",
    "    features_output = []\n",
    "    for step in tqdm(range(num_batches)):\n",
    "        in_spectrograms = samples_spectrograms[step*batch_size:(step+1)*batch_size]\n",
    "        features_output.append(extractor.forward(in_spectrograms))\n",
    "    return np.concatenate(features_output, axis=0)\n",
    "\n",
    "train_pos_samples_spectrograms = get_spectrograms(train_pos_samples)\n",
    "train_neg_samples_spectrograms = get_spectrograms(train_neg_samples)\n",
    "test_pos_samples_spectrograms = get_spectrograms(test_pos_samples)\n",
    "test_neg_samples_spectrograms = get_spectrograms(test_neg_samples)\n",
    "\n",
    "train_pos_samples_features = extract_features(train_pos_samples_spectrograms)\n",
    "train_neg_samples_features = extract_features(train_neg_samples_spectrograms)\n",
    "test_pos_samples_features = extract_features(test_pos_samples_spectrograms)\n",
    "test_neg_samples_features = extract_features(test_neg_samples_spectrograms)"
   ]
  },
  {
   "cell_type": "code",
   "execution_count": 4,
   "metadata": {},
   "outputs": [
    {
     "name": "stdout",
     "output_type": "stream",
     "text": [
      "Accuracy: 0.8981481481481481\n",
      "AUC: 0.9500274348422497\n"
     ]
    }
   ],
   "source": [
    "from sklearn.linear_model import LogisticRegression as LR\n",
    "from sklearn.model_selection import cross_val_score\n",
    "from sklearn.metrics import roc_auc_score\n",
    "from sklearn.metrics import roc_curve\n",
    "from sklearn.metrics import precision_recall_curve\n",
    "\n",
    "train_features = np.concatenate((train_pos_samples_features, \n",
    "                           train_neg_samples_features), axis=0)\n",
    "train_labels = np.array([1]*len(train_pos_samples) + \\\n",
    "                        [0]*len(train_neg_samples))\n",
    "\n",
    "best_perform = 0\n",
    "best_C = 0.0001\n",
    "for C in [0.0001, 0.001, 0.01, 0.1, 1, 10, 100, 1000, 10000]:\n",
    "    lr_model = LR(C=C)\n",
    "    perform = np.mean(cross_val_score(lr_model, train_features, train_labels, cv=5))\n",
    "    if perform > best_perform:\n",
    "        best_perform = perform\n",
    "        best_C = C\n",
    "\n",
    "model = LR(C=best_C)\n",
    "model.fit(train_features, train_labels)\n",
    "\n",
    "test_features = np.concatenate((test_pos_samples_features, \n",
    "                                test_neg_samples_features), axis=0)\n",
    "test_labels = np.array([1]*len(test_pos_samples) + \\\n",
    "                       [0]*len(test_neg_samples))\n",
    "test_scores = model.decision_function(test_features)\n",
    "\n",
    "# Accuracy and AUC\n",
    "print('Accuracy:', model.score(test_features, test_labels))\n",
    "print('AUC:', roc_auc_score(test_labels, test_scores))"
   ]
  },
  {
   "cell_type": "code",
   "execution_count": 5,
   "metadata": {},
   "outputs": [
    {
     "data": {
      "image/png": "[encoded data removed]",
      "text/plain": [
       "<Figure size 360x216 with 1 Axes>"
      ]
     },
     "metadata": {},
     "output_type": "display_data"
    },
    {
     "data": {
      "image/png": "[encoded data removed]",
      "text/plain": [
       "<Figure size 360x216 with 1 Axes>"
      ]
     },
     "metadata": {},
     "output_type": "display_data"
    }
   ],
   "source": [
    "import matplotlib.pyplot as plt\n",
    "%matplotlib inline\n",
    "\n",
    "# AUC curve and Precision-Recall curve\n",
    "test_precision, test_recall, _ = precision_recall_curve(y_true=test_labels, probas_pred=test_scores)\n",
    "test_fpr, test_tpr, _ = roc_curve(y_true=test_labels, y_score=test_scores)\n",
    "\n",
    "plt.figure(figsize=(5, 3))\n",
    "plt.plot(test_fpr, test_tpr, color='#c0392b', linewidth=2.5)\n",
    "plt.xlim([0, 1])\n",
    "plt.ylim([0, 1])\n",
    "plt.xticks([0, 0.5, 1], [0, 0.5, 1], fontsize=17)\n",
    "plt.yticks([0, 0.5, 1], [0, 0.5, 1], fontsize=17)\n",
    "plt.xlabel(\"False Postive Rate (FPR)\", fontsize=17)\n",
    "plt.ylabel(\"True Positive Rate (TPR)\", fontsize=17)\n",
    "plt.show()\n",
    "\n",
    "plt.figure(figsize=(5, 3))\n",
    "plt.plot(test_recall, test_precision, color='#c0392b', linewidth=2.5)\n",
    "plt.xlim([0, 1])\n",
    "plt.ylim([0.5, 1])\n",
    "plt.xticks([0, 0.5, 1], [0, 0.5, 1], fontsize=17)\n",
    "plt.yticks([0.5, 0.75, 1.0], [0.5, 0.75, 1], fontsize=17)\n",
    "plt.xlabel(\"Recall\", fontsize=17)\n",
    "plt.ylabel(\"Precision\", fontsize=17)\n",
    "plt.show()"
   ]
  }
 ],
 "metadata": {
  "kernelspec": {
   "display_name": "Python 3",
   "language": "python",
   "name": "python3"
  },
  "language_info": {
   "codemirror_mode": {
    "name": "ipython",
    "version": 3
   },
   "file_extension": ".py",
   "mimetype": "text/x-python",
   "name": "python",
   "nbconvert_exporter": "python",
   "pygments_lexer": "ipython3",
   "version": "3.5.2"
  }
 },
 "nbformat": 4,
 "nbformat_minor": 2
}
